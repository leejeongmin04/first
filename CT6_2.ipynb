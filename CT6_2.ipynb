{
  "nbformat": 4,
  "nbformat_minor": 0,
  "metadata": {
    "colab": {
      "provenance": [],
      "authorship_tag": "ABX9TyPvpJyX9GuuHtrpz/G5DDRx",
      "include_colab_link": true
    },
    "kernelspec": {
      "name": "python3",
      "display_name": "Python 3"
    },
    "language_info": {
      "name": "python"
    }
  },
  "cells": [
    {
      "cell_type": "markdown",
      "metadata": {
        "id": "view-in-github",
        "colab_type": "text"
      },
      "source": [
        "<a href=\"https://colab.research.google.com/github/leejeongmin04/first/blob/main/CT6_2.ipynb\" target=\"_parent\"><img src=\"https://colab.research.google.com/assets/colab-badge.svg\" alt=\"Open In Colab\"/></a>"
      ]
    },
    {
      "cell_type": "markdown",
      "source": [
        "학생10명의 성적을 입력받아 평균을 게산하는 알고리즘능 의사코드로 표현해 보자"
      ],
      "metadata": {
        "id": "gYsNDleofFmG"
      }
    },
    {
      "cell_type": "code",
      "execution_count": 40,
      "metadata": {
        "colab": {
          "base_uri": "https://localhost:8080/"
        },
        "id": "ZVXoySAXXQu4",
        "outputId": "bd7f377f-8138-4fa9-fb2e-c8aeb4912e03"
      },
      "outputs": [
        {
          "output_type": "stream",
          "name": "stdout",
          "text": [
            "정수를 입력하시오100\n",
            "정수를 입력하시오90\n",
            "정수를 입력하시오80\n",
            "정수를 입력하시오70\n",
            "정수를 입력하시오60\n",
            "정수를 입력하시오50\n",
            "정수를 입력하시오40\n",
            "정수를 입력하시오30\n",
            "정수를 입력하시오20\n",
            "정수를 입력하시오10\n",
            "55.0\n"
          ]
        }
      ],
      "source": [
        "total=0                                        #total값 0에서 시작\n",
        "counter=1                                      #counter초기 값 1\n",
        "while counter<=10:                             #10번 반복해라\n",
        "      grade=int(input(\"정수를 입력하시오\"))    #9정수로 입력하시오\n",
        "      total=grade+total                        #total에서 입력값을 더하고 저장 \n",
        "      counter=counter+1                        #반복횟수 저장\n",
        "average=total/10                               #10개로 평균값을 나누어라\n",
        "print (average)                                #average값 출력"
      ]
    },
    {
      "cell_type": "code",
      "source": [],
      "metadata": {
        "id": "vkTH_ztiZIXA"
      },
      "execution_count": null,
      "outputs": []
    }
  ]
}