{
  "nbformat": 4,
  "nbformat_minor": 0,
  "metadata": {
    "colab": {
      "provenance": [],
      "toc_visible": true,
      "authorship_tag": "ABX9TyOWRwoTU69vWF8NrM/goE+R",
      "include_colab_link": true
    },
    "kernelspec": {
      "name": "python3",
      "display_name": "Python 3"
    },
    "language_info": {
      "name": "python"
    }
  },
  "cells": [
    {
      "cell_type": "markdown",
      "metadata": {
        "id": "view-in-github",
        "colab_type": "text"
      },
      "source": [
        "<a href=\"https://colab.research.google.com/github/leejeongmin04/first/blob/main/CT6_1_ipyb.ipynb\" target=\"_parent\"><img src=\"https://colab.research.google.com/assets/colab-badge.svg\" alt=\"Open In Colab\"/></a>"
      ]
    },
    {
      "cell_type": "markdown",
      "source": [
        "1.나의 생에 첫 코딩"
      ],
      "metadata": {
        "id": "Qb29FzNtua_F"
      }
    },
    {
      "cell_type": "code",
      "source": [
        "n1=int(input(\"n1의 값을 입력하시로.:\"))   # 사용자에게 n1을 정수형을 받아라\n",
        "n2=int(input(\"n2의 갑을 입력하시오.:\"))   # 사용자에게 n2을 정수형을 받아라\n",
        "n3=int(input(\"n3의 갑을 입력하시로.:\"))   # 사용자에게 n3을 정수형을 받아라\n",
        "total=n1+n2+n3                            # total변수에 n1,n2,n3 합을 저장하라\n",
        "average= total/3                          #averge 변수에 total을 3을 나눈 평균값을 저장하라\n",
        "print('합=',total,'평균=',average)        #합과 변수 totalrhk qustn averge 값을 화면에 출력하라"
      ],
      "metadata": {
        "colab": {
          "base_uri": "https://localhost:8080/"
        },
        "id": "T4m3YRRwvJdL",
        "outputId": "aa96dbba-c25c-48fe-a5c2-9a94bcc4efa9"
      },
      "execution_count": 4,
      "outputs": [
        {
          "output_type": "stream",
          "name": "stdout",
          "text": [
            "n1의 값을 입력하시로.:4\n",
            "n2의 갑을 입력하시오.:4\n",
            "n3의 갑을 입력하시로.:4\n",
            "합= 12 평균= 4.0\n"
          ]
        }
      ]
    },
    {
      "cell_type": "code",
      "execution_count": null,
      "metadata": {
        "colab": {
          "base_uri": "https://localhost:8080/"
        },
        "id": "bS5KWMsNuBAb",
        "outputId": "a29e3977-2123-4157-a579-ff3830ed9f1e"
      },
      "outputs": [
        {
          "output_type": "stream",
          "name": "stdout",
          "text": [
            "helloworld!\n",
            "9\n",
            "5+4\n"
          ]
        }
      ],
      "source": [
        "print(\"helloworld!\")\n",
        "print(5+4)\n",
        "print(\"5+4\")"
      ]
    }
  ]
}